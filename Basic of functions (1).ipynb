{
 "cells": [
  {
   "cell_type": "code",
   "execution_count": 16,
   "id": "d229db3d",
   "metadata": {},
   "outputs": [
    {
     "name": "stdout",
     "output_type": "stream",
     "text": [
      "2\n",
      "3\n",
      "5\n"
     ]
    }
   ],
   "source": [
    "def add(a,b):\n",
    "    return a+b\n",
    "a=int(input())\n",
    "b=int(input())\n",
    "print(add(a,b))"
   ]
  },
  {
   "cell_type": "code",
   "execution_count": 7,
   "id": "ec3d5c0e",
   "metadata": {},
   "outputs": [
    {
     "name": "stdout",
     "output_type": "stream",
     "text": [
      "5\n",
      "odd\n"
     ]
    }
   ],
   "source": [
    "def odd_even(n):\n",
    "    if n%2==0:\n",
    "        print(\"even\")\n",
    "    else:\n",
    "        print(\"odd\")\n",
    "n=int(input())\n",
    "odd_even(n)"
   ]
  },
  {
   "cell_type": "code",
   "execution_count": 12,
   "id": "e91b6770",
   "metadata": {},
   "outputs": [
    {
     "name": "stdout",
     "output_type": "stream",
     "text": [
      "5\n",
      "0 1 2 3 4 5 "
     ]
    }
   ],
   "source": [
    "def fun(n):\n",
    "    for i in range(0,n+1):\n",
    "        print(i,end=' ')\n",
    "n=int(input())\n",
    "fun(n)"
   ]
  },
  {
   "cell_type": "code",
   "execution_count": 13,
   "id": "568031a5",
   "metadata": {},
   "outputs": [
    {
     "name": "stdout",
     "output_type": "stream",
     "text": [
      "5\n",
      "10\n",
      "5 6 7 8 9 10 "
     ]
    }
   ],
   "source": [
    "def fun(n1,n2):\n",
    "    for i in range(n1,n2+1):\n",
    "        print(i,end=' ')\n",
    "n1=int(input())\n",
    "n2=int(input())\n",
    "fun(n1,n2)"
   ]
  },
  {
   "cell_type": "code",
   "execution_count": 4,
   "id": "71a41556",
   "metadata": {},
   "outputs": [
    {
     "name": "stdout",
     "output_type": "stream",
     "text": [
      "1\n",
      "10\n",
      "5\n",
      "Yes\n"
     ]
    }
   ],
   "source": [
    "def fun(n1,n2,x):\n",
    "    if(n1<=x<=n2):\n",
    "        print(\"Yes\")\n",
    "    else:\n",
    "        print(\"No\")\n",
    "n1=int(input())\n",
    "n2=int(input())\n",
    "x=int(input())\n",
    "fun(n1,n2,x)"
   ]
  },
  {
   "cell_type": "code",
   "execution_count": 8,
   "id": "3e778bda",
   "metadata": {},
   "outputs": [
    {
     "name": "stdout",
     "output_type": "stream",
     "text": [
      "10\n",
      "0 2 4 6 8 10 "
     ]
    }
   ],
   "source": [
    "def even(n):\n",
    "    for i in range(0,n+1,2):\n",
    "        print(i,end=' ')\n",
    "n=int(input())\n",
    "even(n)"
   ]
  },
  {
   "cell_type": "code",
   "execution_count": 29,
   "id": "fea41a78",
   "metadata": {},
   "outputs": [
    {
     "name": "stdout",
     "output_type": "stream",
     "text": [
      "10\n",
      "20\n",
      "10 12 14 16 18 20 "
     ]
    }
   ],
   "source": [
    "def even(n1,n2):\n",
    "    for i in range(n1,n2+1):\n",
    "        if i%2==0:\n",
    "            print(i,end=' ')\n",
    "n1=int(input())\n",
    "n2=int(input())\n",
    "even(n1,n2)"
   ]
  },
  {
   "cell_type": "code",
   "execution_count": 11,
   "id": "9db2da43",
   "metadata": {},
   "outputs": [
    {
     "name": "stdout",
     "output_type": "stream",
     "text": [
      "10\n",
      "1 3 5 7 9 "
     ]
    }
   ],
   "source": [
    "def odd(n):\n",
    "    for i in range(1,n+1,2):\n",
    "        print(i,end=' ')\n",
    "n=int(input())\n",
    "odd(n)"
   ]
  },
  {
   "cell_type": "code",
   "execution_count": 31,
   "id": "d88aa85a",
   "metadata": {},
   "outputs": [
    {
     "name": "stdout",
     "output_type": "stream",
     "text": [
      "10\n",
      "20\n",
      "11 13 15 17 19 "
     ]
    }
   ],
   "source": [
    "def odd(n1,n2):\n",
    "    for i in range(n1,n2+1):\n",
    "        if i%2!=0:\n",
    "            print(i,end=' ')\n",
    "n1=int(input())\n",
    "n2=int(input())\n",
    "odd(n1,n2)"
   ]
  },
  {
   "cell_type": "code",
   "execution_count": 33,
   "id": "bf8a242a",
   "metadata": {},
   "outputs": [
    {
     "name": "stdout",
     "output_type": "stream",
     "text": [
      "2\n",
      "2 * 1 = 2\n",
      "2 * 2 = 4\n",
      "2 * 3 = 6\n",
      "2 * 4 = 8\n",
      "2 * 5 = 10\n",
      "2 * 6 = 12\n",
      "2 * 7 = 14\n",
      "2 * 8 = 16\n",
      "2 * 9 = 18\n",
      "2 * 10 = 20\n"
     ]
    }
   ],
   "source": [
    "def table(n):\n",
    "    for i in range(1,11):\n",
    "        print(n,\"*\",i,\"=\",n*i)\n",
    "n=int(input())\n",
    "table(n)"
   ]
  },
  {
   "cell_type": "code",
   "execution_count": 37,
   "id": "afff3c48",
   "metadata": {},
   "outputs": [
    {
     "name": "stdout",
     "output_type": "stream",
     "text": [
      "2\n",
      "3\n",
      "+\n",
      "5\n"
     ]
    }
   ],
   "source": [
    "def using_operand(a,b,operand):\n",
    "    if operand==\"+\":\n",
    "        return a+b\n",
    "    elif operand=='-':\n",
    "        return a-b\n",
    "    elif operand=='*':\n",
    "        return a*b\n",
    "    elif operand == '/':\n",
    "        if b != 0:\n",
    "            return a / b\n",
    "        else:\n",
    "            return \"Division by zero is not allowed.\"\n",
    "    else:\n",
    "        return \"Invalid\"\n",
    "a=int(input())\n",
    "b=int(input())\n",
    "operand=input()\n",
    "print(using_operand(a,b,operand))\n",
    "    "
   ]
  },
  {
   "cell_type": "code",
   "execution_count": null,
   "id": "9d66cdd5",
   "metadata": {},
   "outputs": [],
   "source": []
  }
 ],
 "metadata": {
  "kernelspec": {
   "display_name": "Python 3 (ipykernel)",
   "language": "python",
   "name": "python3"
  },
  "language_info": {
   "codemirror_mode": {
    "name": "ipython",
    "version": 3
   },
   "file_extension": ".py",
   "mimetype": "text/x-python",
   "name": "python",
   "nbconvert_exporter": "python",
   "pygments_lexer": "ipython3",
   "version": "3.11.3"
  }
 },
 "nbformat": 4,
 "nbformat_minor": 5
}
